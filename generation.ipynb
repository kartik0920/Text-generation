{
 "cells": [
  {
   "cell_type": "code",
   "execution_count": null,
   "metadata": {},
   "outputs": [],
   "source": [
    "# importing files\n",
    "\n",
    "import openpyxl as xl\n",
    "wb = xl.load_workbook(\"Clinical_and_Other_Features.xlsx\")\n",
    "sheet = wb[\"Data\"]"
   ]
  },
  {
   "cell_type": "code",
   "execution_count": null,
   "metadata": {},
   "outputs": [],
   "source": [
    "# Iterarting over files to get specific report according to id\n",
    "\n",
    "for i in range(4,14):\n",
    "    pt_name=sheet[f\"a{i}\"]               #getting id for workbook\n",
    "    f = open(f\"reports/{pt_name.value}.txt\", \"a\")   #creating file with specific id of patient\n",
    "    f.write(f\"Patient id is {pt_name.value}\")     #writing the data\n",
    "    f.close()   #saving file\n",
    "print(\"File generation done\")"
   ]
  }
 ],
 "metadata": {
  "kernelspec": {
   "display_name": "Python 3",
   "language": "python",
   "name": "python3"
  },
  "language_info": {
   "codemirror_mode": {
    "name": "ipython",
    "version": 3
   },
   "file_extension": ".py",
   "mimetype": "text/x-python",
   "name": "python",
   "nbconvert_exporter": "python",
   "pygments_lexer": "ipython3",
   "version": "3.12.6"
  }
 },
 "nbformat": 4,
 "nbformat_minor": 2
}
