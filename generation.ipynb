{
 "cells": [
  {
   "cell_type": "code",
   "execution_count": 2,
   "metadata": {},
   "outputs": [],
   "source": [
    "# importing files\n",
    "\n",
    "import openpyxl as xl\n",
    "import random\n",
    "wb = xl.load_workbook(\"Clinical_and_Other_Features.xlsx\")\n",
    "sheet = wb[\"Data\"]"
   ]
  },
  {
   "cell_type": "code",
   "execution_count": 3,
   "metadata": {},
   "outputs": [
    {
     "name": "stdout",
     "output_type": "stream",
     "text": [
      "File generation done\n"
     ]
    }
   ],
   "source": [
    "# Iterarting over files to get specific report according to id\n",
    "\n",
    "for i in range(4,14):\n",
    "    pt_name=sheet[f\"a{i}\"]               #getting id for workbook\n",
    "    f = open(f\"reports/{pt_name.value}.txt\", \"a\")   #creating file with specific id of patient\n",
    "    f.write(f\"Patient id is {pt_name.value}\")     #writing the data\n",
    "    f.close()   #saving file\n",
    "print(\"File generation done\")"
   ]
  },
  {
   "cell_type": "code",
   "execution_count": 15,
   "metadata": {},
   "outputs": [],
   "source": [
    "def getRandom(str):\n",
    "    listOfTemplates = [f\"Patient id is {str.value}\", f\"Id is  for Patient {str.value}\",f\"Hello , this is {str.value} having breast Cancer\"]\n",
    "    return random.choice(listOfTemplates)"
   ]
  },
  {
   "cell_type": "code",
   "execution_count": 17,
   "metadata": {},
   "outputs": [
    {
     "name": "stdout",
     "output_type": "stream",
     "text": [
      "File generation done\n"
     ]
    }
   ],
   "source": [
    "# Iterarting over files to get specific report according to id\n",
    "\n",
    "for i in range(4, 14):\n",
    "    pt_name = sheet[f\"a{i}\"]  # getting id for workbook\n",
    "    temp=getRandom(pt_name)\n",
    "    f = open(f\"reports1/{pt_name.value}.txt\", \"a\")  # creating file with specific id of patient\n",
    "    f.write(temp)  # writing the data\n",
    "    f.close()  # saving file\n",
    "print(\"File generation done\")"
   ]
  }
 ],
 "metadata": {
  "kernelspec": {
   "display_name": "Python 3",
   "language": "python",
   "name": "python3"
  },
  "language_info": {
   "codemirror_mode": {
    "name": "ipython",
    "version": 3
   },
   "file_extension": ".py",
   "mimetype": "text/x-python",
   "name": "python",
   "nbconvert_exporter": "python",
   "pygments_lexer": "ipython3",
   "version": "3.12.6"
  }
 },
 "nbformat": 4,
 "nbformat_minor": 2
}
